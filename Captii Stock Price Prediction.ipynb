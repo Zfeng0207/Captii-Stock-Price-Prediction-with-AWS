{
 "cells": [
  {
   "cell_type": "markdown",
   "id": "8a130632",
   "metadata": {},
   "source": [
    "1. Creating a S3 Bucket"
   ]
  },
  {
   "cell_type": "code",
   "execution_count": 1,
   "id": "c63abcce",
   "metadata": {},
   "outputs": [],
   "source": [
    "import boto3\n",
    "s3 = boto3.resource('s3')"
   ]
  },
  {
   "cell_type": "code",
   "execution_count": 8,
   "id": "0df30958",
   "metadata": {},
   "outputs": [
    {
     "name": "stdout",
     "output_type": "stream",
     "text": [
      "Bucket globeossstockprices created successfully in ap-southeast-1.\n"
     ]
    }
   ],
   "source": [
    "# Set the S3 bucket name and the region\n",
    "bucket_name = 'globeossstockprices'  # Replace with your desired bucket name\n",
    "region = 'ap-southeast-1'\n",
    "\n",
    "# Create an S3 client\n",
    "s3_client = boto3.client('s3', region_name=region)\n",
    "\n",
    "# Create the S3 bucket\n",
    "try:\n",
    "    response = s3_client.create_bucket(\n",
    "        Bucket=bucket_name,\n",
    "        CreateBucketConfiguration={\n",
    "            'LocationConstraint': region\n",
    "        }\n",
    "    )\n",
    "    print(f'Bucket {bucket_name} created successfully in {region}.')\n",
    "except Exception as e:\n",
    "    print(f'S3 Error: {e}')\n"
   ]
  },
  {
   "cell_type": "code",
   "execution_count": 9,
   "id": "58b58865",
   "metadata": {},
   "outputs": [
    {
     "name": "stdout",
     "output_type": "stream",
     "text": [
      "Collecting yfinance\n",
      "  Downloading yfinance-0.2.41-py2.py3-none-any.whl.metadata (11 kB)\n",
      "Requirement already satisfied: pandas>=1.3.0 in /home/ec2-user/anaconda3/envs/python3/lib/python3.10/site-packages (from yfinance) (2.2.2)\n",
      "Requirement already satisfied: numpy>=1.16.5 in /home/ec2-user/anaconda3/envs/python3/lib/python3.10/site-packages (from yfinance) (1.22.4)\n",
      "Requirement already satisfied: requests>=2.31 in /home/ec2-user/anaconda3/envs/python3/lib/python3.10/site-packages (from yfinance) (2.32.3)\n",
      "Collecting multitasking>=0.0.7 (from yfinance)\n",
      "  Downloading multitasking-0.0.11-py3-none-any.whl.metadata (5.5 kB)\n",
      "Collecting lxml>=4.9.1 (from yfinance)\n",
      "  Downloading lxml-5.3.0-cp310-cp310-manylinux_2_17_x86_64.manylinux2014_x86_64.whl.metadata (3.8 kB)\n",
      "Requirement already satisfied: platformdirs>=2.0.0 in /home/ec2-user/anaconda3/envs/python3/lib/python3.10/site-packages (from yfinance) (4.2.2)\n",
      "Requirement already satisfied: pytz>=2022.5 in /home/ec2-user/anaconda3/envs/python3/lib/python3.10/site-packages (from yfinance) (2024.1)\n",
      "Collecting frozendict>=2.3.4 (from yfinance)\n",
      "  Downloading frozendict-2.4.4-cp310-cp310-manylinux_2_17_x86_64.manylinux2014_x86_64.whl.metadata (23 kB)\n",
      "Collecting peewee>=3.16.2 (from yfinance)\n",
      "  Downloading peewee-3.17.6.tar.gz (3.0 MB)\n",
      "\u001b[2K     \u001b[90m━━━━━━━━━━━━━━━━━━━━━━━━━━━━━━━━━━━━━━━━\u001b[0m \u001b[32m3.0/3.0 MB\u001b[0m \u001b[31m46.8 MB/s\u001b[0m eta \u001b[36m0:00:00\u001b[0ma \u001b[36m0:00:01\u001b[0m\n",
      "\u001b[?25h  Installing build dependencies ... \u001b[?25ldone\n",
      "\u001b[?25h  Getting requirements to build wheel ... \u001b[?25ldone\n",
      "\u001b[?25h  Preparing metadata (pyproject.toml) ... \u001b[?25ldone\n",
      "\u001b[?25hRequirement already satisfied: beautifulsoup4>=4.11.1 in /home/ec2-user/anaconda3/envs/python3/lib/python3.10/site-packages (from yfinance) (4.12.3)\n",
      "Collecting html5lib>=1.1 (from yfinance)\n",
      "  Downloading html5lib-1.1-py2.py3-none-any.whl.metadata (16 kB)\n",
      "Requirement already satisfied: soupsieve>1.2 in /home/ec2-user/anaconda3/envs/python3/lib/python3.10/site-packages (from beautifulsoup4>=4.11.1->yfinance) (2.5)\n",
      "Requirement already satisfied: six>=1.9 in /home/ec2-user/anaconda3/envs/python3/lib/python3.10/site-packages (from html5lib>=1.1->yfinance) (1.16.0)\n",
      "Requirement already satisfied: webencodings in /home/ec2-user/anaconda3/envs/python3/lib/python3.10/site-packages (from html5lib>=1.1->yfinance) (0.5.1)\n",
      "Requirement already satisfied: python-dateutil>=2.8.2 in /home/ec2-user/anaconda3/envs/python3/lib/python3.10/site-packages (from pandas>=1.3.0->yfinance) (2.9.0)\n",
      "Requirement already satisfied: tzdata>=2022.7 in /home/ec2-user/anaconda3/envs/python3/lib/python3.10/site-packages (from pandas>=1.3.0->yfinance) (2024.1)\n",
      "Requirement already satisfied: charset-normalizer<4,>=2 in /home/ec2-user/anaconda3/envs/python3/lib/python3.10/site-packages (from requests>=2.31->yfinance) (3.3.2)\n",
      "Requirement already satisfied: idna<4,>=2.5 in /home/ec2-user/anaconda3/envs/python3/lib/python3.10/site-packages (from requests>=2.31->yfinance) (3.7)\n",
      "Requirement already satisfied: urllib3<3,>=1.21.1 in /home/ec2-user/anaconda3/envs/python3/lib/python3.10/site-packages (from requests>=2.31->yfinance) (2.2.1)\n",
      "Requirement already satisfied: certifi>=2017.4.17 in /home/ec2-user/anaconda3/envs/python3/lib/python3.10/site-packages (from requests>=2.31->yfinance) (2024.6.2)\n",
      "Downloading yfinance-0.2.41-py2.py3-none-any.whl (73 kB)\n",
      "\u001b[2K   \u001b[90m━━━━━━━━━━━━━━━━━━━━━━━━━━━━━━━━━━━━━━━━\u001b[0m \u001b[32m73.5/73.5 kB\u001b[0m \u001b[31m11.6 MB/s\u001b[0m eta \u001b[36m0:00:00\u001b[0m\n",
      "\u001b[?25hDownloading frozendict-2.4.4-cp310-cp310-manylinux_2_17_x86_64.manylinux2014_x86_64.whl (117 kB)\n",
      "\u001b[2K   \u001b[90m━━━━━━━━━━━━━━━━━━━━━━━━━━━━━━━━━━━━━━━━\u001b[0m \u001b[32m117.3/117.3 kB\u001b[0m \u001b[31m2.6 MB/s\u001b[0m eta \u001b[36m0:00:00\u001b[0mta \u001b[36m0:00:01\u001b[0m\n",
      "\u001b[?25hDownloading html5lib-1.1-py2.py3-none-any.whl (112 kB)\n",
      "\u001b[2K   \u001b[90m━━━━━━━━━━━━━━━━━━━━━━━━━━━━━━━━━━━━━━━━\u001b[0m \u001b[32m112.2/112.2 kB\u001b[0m \u001b[31m21.7 MB/s\u001b[0m eta \u001b[36m0:00:00\u001b[0m\n",
      "\u001b[?25hDownloading lxml-5.3.0-cp310-cp310-manylinux_2_17_x86_64.manylinux2014_x86_64.whl (5.0 MB)\n",
      "\u001b[2K   \u001b[90m━━━━━━━━━━━━━━━━━━━━━━━━━━━━━━━━━━━━━━━━\u001b[0m \u001b[32m5.0/5.0 MB\u001b[0m \u001b[31m90.3 MB/s\u001b[0m eta \u001b[36m0:00:00\u001b[0m:00:01\u001b[0m\n",
      "\u001b[?25hDownloading multitasking-0.0.11-py3-none-any.whl (8.5 kB)\n",
      "Building wheels for collected packages: peewee\n",
      "  Building wheel for peewee (pyproject.toml) ... \u001b[?25ldone\n",
      "\u001b[?25h  Created wheel for peewee: filename=peewee-3.17.6-cp310-cp310-linux_x86_64.whl size=279105 sha256=5afb412561ab90bf4b12ebe6469097c74bd9e9e1124b22f3da8ba1186c3f1bfb\n",
      "  Stored in directory: /home/ec2-user/.cache/pip/wheels/4b/b9/b0/83d6e258e8f963f5ff111a2cd8c483ca59372a86e6a2535212\n",
      "Successfully built peewee\n",
      "Installing collected packages: peewee, multitasking, lxml, html5lib, frozendict, yfinance\n",
      "Successfully installed frozendict-2.4.4 html5lib-1.1 lxml-5.3.0 multitasking-0.0.11 peewee-3.17.6 yfinance-0.2.41\n"
     ]
    }
   ],
   "source": [
    "!pip install yfinance"
   ]
  },
  {
   "cell_type": "code",
   "execution_count": 10,
   "id": "75ded20a",
   "metadata": {},
   "outputs": [
    {
     "name": "stderr",
     "output_type": "stream",
     "text": [
      "[*********************100%%**********************]  1 of 1 completed\n"
     ]
    },
    {
     "data": {
      "text/html": [
       "<div>\n",
       "<style scoped>\n",
       "    .dataframe tbody tr th:only-of-type {\n",
       "        vertical-align: middle;\n",
       "    }\n",
       "\n",
       "    .dataframe tbody tr th {\n",
       "        vertical-align: top;\n",
       "    }\n",
       "\n",
       "    .dataframe thead th {\n",
       "        text-align: right;\n",
       "    }\n",
       "</style>\n",
       "<table border=\"1\" class=\"dataframe\">\n",
       "  <thead>\n",
       "    <tr style=\"text-align: right;\">\n",
       "      <th></th>\n",
       "      <th>Date</th>\n",
       "      <th>Open</th>\n",
       "      <th>High</th>\n",
       "      <th>Low</th>\n",
       "      <th>Close</th>\n",
       "      <th>Adj Close</th>\n",
       "      <th>Volume</th>\n",
       "    </tr>\n",
       "  </thead>\n",
       "  <tbody>\n",
       "    <tr>\n",
       "      <th>0</th>\n",
       "      <td>2019-01-01</td>\n",
       "      <td>0.37</td>\n",
       "      <td>0.37</td>\n",
       "      <td>0.370</td>\n",
       "      <td>0.370</td>\n",
       "      <td>0.315062</td>\n",
       "      <td>0</td>\n",
       "    </tr>\n",
       "    <tr>\n",
       "      <th>1</th>\n",
       "      <td>2019-01-02</td>\n",
       "      <td>0.37</td>\n",
       "      <td>0.37</td>\n",
       "      <td>0.370</td>\n",
       "      <td>0.370</td>\n",
       "      <td>0.315062</td>\n",
       "      <td>0</td>\n",
       "    </tr>\n",
       "    <tr>\n",
       "      <th>2</th>\n",
       "      <td>2019-01-03</td>\n",
       "      <td>0.37</td>\n",
       "      <td>0.37</td>\n",
       "      <td>0.370</td>\n",
       "      <td>0.370</td>\n",
       "      <td>0.315062</td>\n",
       "      <td>0</td>\n",
       "    </tr>\n",
       "    <tr>\n",
       "      <th>3</th>\n",
       "      <td>2019-01-04</td>\n",
       "      <td>0.37</td>\n",
       "      <td>0.37</td>\n",
       "      <td>0.370</td>\n",
       "      <td>0.370</td>\n",
       "      <td>0.315062</td>\n",
       "      <td>0</td>\n",
       "    </tr>\n",
       "    <tr>\n",
       "      <th>4</th>\n",
       "      <td>2019-01-07</td>\n",
       "      <td>0.37</td>\n",
       "      <td>0.37</td>\n",
       "      <td>0.370</td>\n",
       "      <td>0.370</td>\n",
       "      <td>0.315062</td>\n",
       "      <td>0</td>\n",
       "    </tr>\n",
       "    <tr>\n",
       "      <th>...</th>\n",
       "      <td>...</td>\n",
       "      <td>...</td>\n",
       "      <td>...</td>\n",
       "      <td>...</td>\n",
       "      <td>...</td>\n",
       "      <td>...</td>\n",
       "      <td>...</td>\n",
       "    </tr>\n",
       "    <tr>\n",
       "      <th>500</th>\n",
       "      <td>2020-12-24</td>\n",
       "      <td>0.34</td>\n",
       "      <td>0.34</td>\n",
       "      <td>0.340</td>\n",
       "      <td>0.340</td>\n",
       "      <td>0.309417</td>\n",
       "      <td>0</td>\n",
       "    </tr>\n",
       "    <tr>\n",
       "      <th>501</th>\n",
       "      <td>2020-12-28</td>\n",
       "      <td>0.34</td>\n",
       "      <td>0.34</td>\n",
       "      <td>0.340</td>\n",
       "      <td>0.340</td>\n",
       "      <td>0.309417</td>\n",
       "      <td>0</td>\n",
       "    </tr>\n",
       "    <tr>\n",
       "      <th>502</th>\n",
       "      <td>2020-12-29</td>\n",
       "      <td>0.34</td>\n",
       "      <td>0.34</td>\n",
       "      <td>0.340</td>\n",
       "      <td>0.340</td>\n",
       "      <td>0.309417</td>\n",
       "      <td>0</td>\n",
       "    </tr>\n",
       "    <tr>\n",
       "      <th>503</th>\n",
       "      <td>2020-12-30</td>\n",
       "      <td>0.35</td>\n",
       "      <td>0.35</td>\n",
       "      <td>0.325</td>\n",
       "      <td>0.335</td>\n",
       "      <td>0.304867</td>\n",
       "      <td>65000</td>\n",
       "    </tr>\n",
       "    <tr>\n",
       "      <th>504</th>\n",
       "      <td>2020-12-31</td>\n",
       "      <td>0.35</td>\n",
       "      <td>0.35</td>\n",
       "      <td>0.345</td>\n",
       "      <td>0.335</td>\n",
       "      <td>0.304867</td>\n",
       "      <td>20000</td>\n",
       "    </tr>\n",
       "  </tbody>\n",
       "</table>\n",
       "<p>505 rows × 7 columns</p>\n",
       "</div>"
      ],
      "text/plain": [
       "          Date  Open  High    Low  Close  Adj Close  Volume\n",
       "0   2019-01-01  0.37  0.37  0.370  0.370   0.315062       0\n",
       "1   2019-01-02  0.37  0.37  0.370  0.370   0.315062       0\n",
       "2   2019-01-03  0.37  0.37  0.370  0.370   0.315062       0\n",
       "3   2019-01-04  0.37  0.37  0.370  0.370   0.315062       0\n",
       "4   2019-01-07  0.37  0.37  0.370  0.370   0.315062       0\n",
       "..         ...   ...   ...    ...    ...        ...     ...\n",
       "500 2020-12-24  0.34  0.34  0.340  0.340   0.309417       0\n",
       "501 2020-12-28  0.34  0.34  0.340  0.340   0.309417       0\n",
       "502 2020-12-29  0.34  0.34  0.340  0.340   0.309417       0\n",
       "503 2020-12-30  0.35  0.35  0.325  0.335   0.304867   65000\n",
       "504 2020-12-31  0.35  0.35  0.345  0.335   0.304867   20000\n",
       "\n",
       "[505 rows x 7 columns]"
      ]
     },
     "execution_count": 10,
     "metadata": {},
     "output_type": "execute_result"
    }
   ],
   "source": [
    "import pandas as pd \n",
    "from datetime import datetime\n",
    "import yfinance as yf\n",
    "\n",
    "#initialize parameters\n",
    "start_date = datetime(2019,1,1)\n",
    "end_date = datetime(2021,1,1)\n",
    "\n",
    "#get the data\n",
    "df_data = yf.download('AWV.SI', start = start_date, end = end_date)\n",
    "\n",
    "df_data.reset_index(inplace=True)\n",
    "df_data"
   ]
  },
  {
   "cell_type": "markdown",
   "id": "32718885",
   "metadata": {},
   "source": [
    "Extract, Load & Transform"
   ]
  },
  {
   "cell_type": "code",
   "execution_count": 12,
   "id": "734478ed",
   "metadata": {},
   "outputs": [],
   "source": [
    "df_data.drop(axis=1, columns=['Adj Close'], inplace= True)\n",
    "df_data.drop(axis=1, columns=['Date'], inplace= True)"
   ]
  },
  {
   "cell_type": "code",
   "execution_count": 13,
   "id": "011e0df0",
   "metadata": {},
   "outputs": [
    {
     "data": {
      "text/html": [
       "<div>\n",
       "<style scoped>\n",
       "    .dataframe tbody tr th:only-of-type {\n",
       "        vertical-align: middle;\n",
       "    }\n",
       "\n",
       "    .dataframe tbody tr th {\n",
       "        vertical-align: top;\n",
       "    }\n",
       "\n",
       "    .dataframe thead th {\n",
       "        text-align: right;\n",
       "    }\n",
       "</style>\n",
       "<table border=\"1\" class=\"dataframe\">\n",
       "  <thead>\n",
       "    <tr style=\"text-align: right;\">\n",
       "      <th></th>\n",
       "      <th>Open</th>\n",
       "      <th>High</th>\n",
       "      <th>Low</th>\n",
       "      <th>Close</th>\n",
       "      <th>Volume</th>\n",
       "    </tr>\n",
       "  </thead>\n",
       "  <tbody>\n",
       "    <tr>\n",
       "      <th>0</th>\n",
       "      <td>0.37</td>\n",
       "      <td>0.37</td>\n",
       "      <td>0.370</td>\n",
       "      <td>0.370</td>\n",
       "      <td>0</td>\n",
       "    </tr>\n",
       "    <tr>\n",
       "      <th>1</th>\n",
       "      <td>0.37</td>\n",
       "      <td>0.37</td>\n",
       "      <td>0.370</td>\n",
       "      <td>0.370</td>\n",
       "      <td>0</td>\n",
       "    </tr>\n",
       "    <tr>\n",
       "      <th>2</th>\n",
       "      <td>0.37</td>\n",
       "      <td>0.37</td>\n",
       "      <td>0.370</td>\n",
       "      <td>0.370</td>\n",
       "      <td>0</td>\n",
       "    </tr>\n",
       "    <tr>\n",
       "      <th>3</th>\n",
       "      <td>0.37</td>\n",
       "      <td>0.37</td>\n",
       "      <td>0.370</td>\n",
       "      <td>0.370</td>\n",
       "      <td>0</td>\n",
       "    </tr>\n",
       "    <tr>\n",
       "      <th>4</th>\n",
       "      <td>0.37</td>\n",
       "      <td>0.37</td>\n",
       "      <td>0.370</td>\n",
       "      <td>0.370</td>\n",
       "      <td>0</td>\n",
       "    </tr>\n",
       "    <tr>\n",
       "      <th>...</th>\n",
       "      <td>...</td>\n",
       "      <td>...</td>\n",
       "      <td>...</td>\n",
       "      <td>...</td>\n",
       "      <td>...</td>\n",
       "    </tr>\n",
       "    <tr>\n",
       "      <th>499</th>\n",
       "      <td>0.34</td>\n",
       "      <td>0.34</td>\n",
       "      <td>0.340</td>\n",
       "      <td>0.340</td>\n",
       "      <td>0</td>\n",
       "    </tr>\n",
       "    <tr>\n",
       "      <th>500</th>\n",
       "      <td>0.34</td>\n",
       "      <td>0.34</td>\n",
       "      <td>0.340</td>\n",
       "      <td>0.340</td>\n",
       "      <td>0</td>\n",
       "    </tr>\n",
       "    <tr>\n",
       "      <th>501</th>\n",
       "      <td>0.34</td>\n",
       "      <td>0.34</td>\n",
       "      <td>0.340</td>\n",
       "      <td>0.340</td>\n",
       "      <td>0</td>\n",
       "    </tr>\n",
       "    <tr>\n",
       "      <th>502</th>\n",
       "      <td>0.34</td>\n",
       "      <td>0.34</td>\n",
       "      <td>0.340</td>\n",
       "      <td>0.340</td>\n",
       "      <td>0</td>\n",
       "    </tr>\n",
       "    <tr>\n",
       "      <th>503</th>\n",
       "      <td>0.35</td>\n",
       "      <td>0.35</td>\n",
       "      <td>0.325</td>\n",
       "      <td>0.335</td>\n",
       "      <td>65000</td>\n",
       "    </tr>\n",
       "  </tbody>\n",
       "</table>\n",
       "<p>504 rows × 5 columns</p>\n",
       "</div>"
      ],
      "text/plain": [
       "     Open  High    Low  Close  Volume\n",
       "0    0.37  0.37  0.370  0.370       0\n",
       "1    0.37  0.37  0.370  0.370       0\n",
       "2    0.37  0.37  0.370  0.370       0\n",
       "3    0.37  0.37  0.370  0.370       0\n",
       "4    0.37  0.37  0.370  0.370       0\n",
       "..    ...   ...    ...    ...     ...\n",
       "499  0.34  0.34  0.340  0.340       0\n",
       "500  0.34  0.34  0.340  0.340       0\n",
       "501  0.34  0.34  0.340  0.340       0\n",
       "502  0.34  0.34  0.340  0.340       0\n",
       "503  0.35  0.35  0.325  0.335   65000\n",
       "\n",
       "[504 rows x 5 columns]"
      ]
     },
     "execution_count": 13,
     "metadata": {},
     "output_type": "execute_result"
    }
   ],
   "source": [
    "df_data_features = df_data.iloc[:-1 , :]\n",
    "df_data_features"
   ]
  },
  {
   "cell_type": "code",
   "execution_count": 14,
   "id": "d6a3e0ce",
   "metadata": {},
   "outputs": [
    {
     "data": {
      "text/plain": [
       "1      0.370\n",
       "2      0.370\n",
       "3      0.370\n",
       "4      0.370\n",
       "5      0.385\n",
       "       ...  \n",
       "500    0.340\n",
       "501    0.340\n",
       "502    0.340\n",
       "503    0.350\n",
       "504    0.350\n",
       "Name: Targets, Length: 504, dtype: float64"
      ]
     },
     "execution_count": 14,
     "metadata": {},
     "output_type": "execute_result"
    }
   ],
   "source": [
    "df_data_targets = df_data.iloc[1:, 0].rename(\"Targets\")\n",
    "df_data_targets"
   ]
  },
  {
   "cell_type": "code",
   "execution_count": 15,
   "id": "19d3af26",
   "metadata": {},
   "outputs": [
    {
     "name": "stderr",
     "output_type": "stream",
     "text": [
      "/tmp/ipykernel_14425/2375105290.py:1: SettingWithCopyWarning: \n",
      "A value is trying to be set on a copy of a slice from a DataFrame.\n",
      "Try using .loc[row_indexer,col_indexer] = value instead\n",
      "\n",
      "See the caveats in the documentation: https://pandas.pydata.org/pandas-docs/stable/user_guide/indexing.html#returning-a-view-versus-a-copy\n",
      "  df_data_features['Target'] = list(df_data_targets)\n"
     ]
    },
    {
     "data": {
      "text/html": [
       "<div>\n",
       "<style scoped>\n",
       "    .dataframe tbody tr th:only-of-type {\n",
       "        vertical-align: middle;\n",
       "    }\n",
       "\n",
       "    .dataframe tbody tr th {\n",
       "        vertical-align: top;\n",
       "    }\n",
       "\n",
       "    .dataframe thead th {\n",
       "        text-align: right;\n",
       "    }\n",
       "</style>\n",
       "<table border=\"1\" class=\"dataframe\">\n",
       "  <thead>\n",
       "    <tr style=\"text-align: right;\">\n",
       "      <th></th>\n",
       "      <th>Target</th>\n",
       "      <th>Open</th>\n",
       "      <th>High</th>\n",
       "      <th>Low</th>\n",
       "      <th>Close</th>\n",
       "      <th>Volume</th>\n",
       "    </tr>\n",
       "  </thead>\n",
       "  <tbody>\n",
       "    <tr>\n",
       "      <th>0</th>\n",
       "      <td>0.370</td>\n",
       "      <td>0.37</td>\n",
       "      <td>0.37</td>\n",
       "      <td>0.370</td>\n",
       "      <td>0.370</td>\n",
       "      <td>0</td>\n",
       "    </tr>\n",
       "    <tr>\n",
       "      <th>1</th>\n",
       "      <td>0.370</td>\n",
       "      <td>0.37</td>\n",
       "      <td>0.37</td>\n",
       "      <td>0.370</td>\n",
       "      <td>0.370</td>\n",
       "      <td>0</td>\n",
       "    </tr>\n",
       "    <tr>\n",
       "      <th>2</th>\n",
       "      <td>0.370</td>\n",
       "      <td>0.37</td>\n",
       "      <td>0.37</td>\n",
       "      <td>0.370</td>\n",
       "      <td>0.370</td>\n",
       "      <td>0</td>\n",
       "    </tr>\n",
       "    <tr>\n",
       "      <th>3</th>\n",
       "      <td>0.370</td>\n",
       "      <td>0.37</td>\n",
       "      <td>0.37</td>\n",
       "      <td>0.370</td>\n",
       "      <td>0.370</td>\n",
       "      <td>0</td>\n",
       "    </tr>\n",
       "    <tr>\n",
       "      <th>4</th>\n",
       "      <td>0.385</td>\n",
       "      <td>0.37</td>\n",
       "      <td>0.37</td>\n",
       "      <td>0.370</td>\n",
       "      <td>0.370</td>\n",
       "      <td>0</td>\n",
       "    </tr>\n",
       "    <tr>\n",
       "      <th>...</th>\n",
       "      <td>...</td>\n",
       "      <td>...</td>\n",
       "      <td>...</td>\n",
       "      <td>...</td>\n",
       "      <td>...</td>\n",
       "      <td>...</td>\n",
       "    </tr>\n",
       "    <tr>\n",
       "      <th>499</th>\n",
       "      <td>0.340</td>\n",
       "      <td>0.34</td>\n",
       "      <td>0.34</td>\n",
       "      <td>0.340</td>\n",
       "      <td>0.340</td>\n",
       "      <td>0</td>\n",
       "    </tr>\n",
       "    <tr>\n",
       "      <th>500</th>\n",
       "      <td>0.340</td>\n",
       "      <td>0.34</td>\n",
       "      <td>0.34</td>\n",
       "      <td>0.340</td>\n",
       "      <td>0.340</td>\n",
       "      <td>0</td>\n",
       "    </tr>\n",
       "    <tr>\n",
       "      <th>501</th>\n",
       "      <td>0.340</td>\n",
       "      <td>0.34</td>\n",
       "      <td>0.34</td>\n",
       "      <td>0.340</td>\n",
       "      <td>0.340</td>\n",
       "      <td>0</td>\n",
       "    </tr>\n",
       "    <tr>\n",
       "      <th>502</th>\n",
       "      <td>0.350</td>\n",
       "      <td>0.34</td>\n",
       "      <td>0.34</td>\n",
       "      <td>0.340</td>\n",
       "      <td>0.340</td>\n",
       "      <td>0</td>\n",
       "    </tr>\n",
       "    <tr>\n",
       "      <th>503</th>\n",
       "      <td>0.350</td>\n",
       "      <td>0.35</td>\n",
       "      <td>0.35</td>\n",
       "      <td>0.325</td>\n",
       "      <td>0.335</td>\n",
       "      <td>65000</td>\n",
       "    </tr>\n",
       "  </tbody>\n",
       "</table>\n",
       "<p>504 rows × 6 columns</p>\n",
       "</div>"
      ],
      "text/plain": [
       "     Target  Open  High    Low  Close  Volume\n",
       "0     0.370  0.37  0.37  0.370  0.370       0\n",
       "1     0.370  0.37  0.37  0.370  0.370       0\n",
       "2     0.370  0.37  0.37  0.370  0.370       0\n",
       "3     0.370  0.37  0.37  0.370  0.370       0\n",
       "4     0.385  0.37  0.37  0.370  0.370       0\n",
       "..      ...   ...   ...    ...    ...     ...\n",
       "499   0.340  0.34  0.34  0.340  0.340       0\n",
       "500   0.340  0.34  0.34  0.340  0.340       0\n",
       "501   0.340  0.34  0.34  0.340  0.340       0\n",
       "502   0.350  0.34  0.34  0.340  0.340       0\n",
       "503   0.350  0.35  0.35  0.325  0.335   65000\n",
       "\n",
       "[504 rows x 6 columns]"
      ]
     },
     "execution_count": 15,
     "metadata": {},
     "output_type": "execute_result"
    }
   ],
   "source": [
    "df_data_features['Target'] = list(df_data_targets)\n",
    "\n",
    "first_column = df_data_features.pop('Target')\n",
    "df_data_features.insert(0, 'Target', first_column)\n",
    "\n",
    "df_data_final = df_data_features\n",
    "df_data_final"
   ]
  },
  {
   "cell_type": "code",
   "execution_count": 17,
   "id": "6a84e289",
   "metadata": {},
   "outputs": [],
   "source": [
    "import numpy as np\n",
    "\n",
    "df_randomized = df_data_final.sample(frac=1, random_state=123)"
   ]
  },
  {
   "cell_type": "markdown",
   "id": "fe98d6bc",
   "metadata": {},
   "source": [
    "Train Test Split"
   ]
  },
  {
   "cell_type": "code",
   "execution_count": 18,
   "id": "2cf6a917",
   "metadata": {},
   "outputs": [
    {
     "name": "stdout",
     "output_type": "stream",
     "text": [
      "(403, 6) (101, 6)\n"
     ]
    },
    {
     "name": "stderr",
     "output_type": "stream",
     "text": [
      "/home/ec2-user/anaconda3/envs/python3/lib/python3.10/site-packages/numpy/core/fromnumeric.py:57: FutureWarning: 'DataFrame.swapaxes' is deprecated and will be removed in a future version. Please use 'DataFrame.transpose' instead.\n",
      "  return bound(*args, **kwds)\n"
     ]
    }
   ],
   "source": [
    "train_data, test_data = np.split(df_randomized, [int(0.8*len(df_randomized))])\n",
    "print(train_data.shape, test_data.shape)"
   ]
  },
  {
   "cell_type": "markdown",
   "id": "218504a5",
   "metadata": {},
   "source": [
    "Set a path and upload dataset to S3 bucket"
   ]
  },
  {
   "cell_type": "code",
   "execution_count": 19,
   "id": "ed0cfb1c",
   "metadata": {},
   "outputs": [
    {
     "name": "stdout",
     "output_type": "stream",
     "text": [
      "s3://globeossstockprices/xgboost-as-a-built-in-algo/train/train.csv\n",
      "s3://globeossstockprices/xgboost-as-a-built-in-algo/test/test.csv\n"
     ]
    }
   ],
   "source": [
    "import os\n",
    "\n",
    "prefix = 'xgboost-as-a-built-in-algo'\n",
    "\n",
    "train_csv_path = 's3://{}/{}/{}/{}'.format(bucket_name, prefix, 'train', 'train.csv')\n",
    "test_csv_path = 's3://{}/{}/{}/{}'.format(bucket_name, prefix, 'test', 'test.csv')\n",
    "\n",
    "print(train_csv_path)\n",
    "print(test_csv_path)"
   ]
  },
  {
   "cell_type": "code",
   "execution_count": 22,
   "id": "ba012cd3",
   "metadata": {},
   "outputs": [],
   "source": [
    "train_data.to_csv(train_csv_path, index = False, header =False)\n",
    "test_data.to_csv(test_csv_path, index = False, header = False)"
   ]
  },
  {
   "cell_type": "code",
   "execution_count": 21,
   "id": "7db6e822",
   "metadata": {},
   "outputs": [
    {
     "name": "stdout",
     "output_type": "stream",
     "text": [
      "Requirement already satisfied: s3fs in /home/ec2-user/anaconda3/envs/python3/lib/python3.10/site-packages (0.4.2)\n",
      "Collecting s3fs\n",
      "  Downloading s3fs-2024.6.1-py3-none-any.whl.metadata (1.6 kB)\n",
      "Collecting aiobotocore<3.0.0,>=2.5.4 (from s3fs)\n",
      "  Downloading aiobotocore-2.13.2-py3-none-any.whl.metadata (22 kB)\n",
      "Collecting fsspec==2024.6.1.* (from s3fs)\n",
      "  Downloading fsspec-2024.6.1-py3-none-any.whl.metadata (11 kB)\n",
      "Requirement already satisfied: aiohttp!=4.0.0a0,!=4.0.0a1 in /home/ec2-user/anaconda3/envs/python3/lib/python3.10/site-packages (from s3fs) (3.9.5)\n",
      "Collecting botocore<1.34.132,>=1.34.70 (from aiobotocore<3.0.0,>=2.5.4->s3fs)\n",
      "  Downloading botocore-1.34.131-py3-none-any.whl.metadata (5.7 kB)\n",
      "Requirement already satisfied: wrapt<2.0.0,>=1.10.10 in /home/ec2-user/anaconda3/envs/python3/lib/python3.10/site-packages (from aiobotocore<3.0.0,>=2.5.4->s3fs) (1.16.0)\n",
      "Collecting aioitertools<1.0.0,>=0.5.1 (from aiobotocore<3.0.0,>=2.5.4->s3fs)\n",
      "  Downloading aioitertools-0.11.0-py3-none-any.whl.metadata (3.3 kB)\n",
      "Requirement already satisfied: aiosignal>=1.1.2 in /home/ec2-user/anaconda3/envs/python3/lib/python3.10/site-packages (from aiohttp!=4.0.0a0,!=4.0.0a1->s3fs) (1.3.1)\n",
      "Requirement already satisfied: attrs>=17.3.0 in /home/ec2-user/anaconda3/envs/python3/lib/python3.10/site-packages (from aiohttp!=4.0.0a0,!=4.0.0a1->s3fs) (23.2.0)\n",
      "Requirement already satisfied: frozenlist>=1.1.1 in /home/ec2-user/anaconda3/envs/python3/lib/python3.10/site-packages (from aiohttp!=4.0.0a0,!=4.0.0a1->s3fs) (1.4.1)\n",
      "Requirement already satisfied: multidict<7.0,>=4.5 in /home/ec2-user/anaconda3/envs/python3/lib/python3.10/site-packages (from aiohttp!=4.0.0a0,!=4.0.0a1->s3fs) (6.0.5)\n",
      "Requirement already satisfied: yarl<2.0,>=1.0 in /home/ec2-user/anaconda3/envs/python3/lib/python3.10/site-packages (from aiohttp!=4.0.0a0,!=4.0.0a1->s3fs) (1.9.4)\n",
      "Requirement already satisfied: async-timeout<5.0,>=4.0 in /home/ec2-user/anaconda3/envs/python3/lib/python3.10/site-packages (from aiohttp!=4.0.0a0,!=4.0.0a1->s3fs) (4.0.3)\n",
      "Requirement already satisfied: jmespath<2.0.0,>=0.7.1 in /home/ec2-user/anaconda3/envs/python3/lib/python3.10/site-packages (from botocore<1.34.132,>=1.34.70->aiobotocore<3.0.0,>=2.5.4->s3fs) (1.0.1)\n",
      "Requirement already satisfied: python-dateutil<3.0.0,>=2.1 in /home/ec2-user/anaconda3/envs/python3/lib/python3.10/site-packages (from botocore<1.34.132,>=1.34.70->aiobotocore<3.0.0,>=2.5.4->s3fs) (2.9.0)\n",
      "Requirement already satisfied: urllib3!=2.2.0,<3,>=1.25.4 in /home/ec2-user/anaconda3/envs/python3/lib/python3.10/site-packages (from botocore<1.34.132,>=1.34.70->aiobotocore<3.0.0,>=2.5.4->s3fs) (2.2.1)\n",
      "Requirement already satisfied: idna>=2.0 in /home/ec2-user/anaconda3/envs/python3/lib/python3.10/site-packages (from yarl<2.0,>=1.0->aiohttp!=4.0.0a0,!=4.0.0a1->s3fs) (3.7)\n",
      "Requirement already satisfied: six>=1.5 in /home/ec2-user/anaconda3/envs/python3/lib/python3.10/site-packages (from python-dateutil<3.0.0,>=2.1->botocore<1.34.132,>=1.34.70->aiobotocore<3.0.0,>=2.5.4->s3fs) (1.16.0)\n",
      "Downloading s3fs-2024.6.1-py3-none-any.whl (29 kB)\n",
      "Downloading fsspec-2024.6.1-py3-none-any.whl (177 kB)\n",
      "\u001b[2K   \u001b[90m━━━━━━━━━━━━━━━━━━━━━━━━━━━━━━━━━━━━━━━━\u001b[0m \u001b[32m177.6/177.6 kB\u001b[0m \u001b[31m21.7 MB/s\u001b[0m eta \u001b[36m0:00:00\u001b[0m\n",
      "\u001b[?25hDownloading aiobotocore-2.13.2-py3-none-any.whl (77 kB)\n",
      "\u001b[2K   \u001b[90m━━━━━━━━━━━━━━━━━━━━━━━━━━━━━━━━━━━━━━━━\u001b[0m \u001b[32m77.2/77.2 kB\u001b[0m \u001b[31m16.5 MB/s\u001b[0m eta \u001b[36m0:00:00\u001b[0m\n",
      "\u001b[?25hDownloading aioitertools-0.11.0-py3-none-any.whl (23 kB)\n",
      "Downloading botocore-1.34.131-py3-none-any.whl (12.3 MB)\n",
      "\u001b[2K   \u001b[90m━━━━━━━━━━━━━━━━━━━━━━━━━━━━━━━━━━━━━━━━\u001b[0m \u001b[32m12.3/12.3 MB\u001b[0m \u001b[31m104.0 MB/s\u001b[0m eta \u001b[36m0:00:00\u001b[0m00:01\u001b[0m00:01\u001b[0m\n",
      "\u001b[?25hInstalling collected packages: fsspec, aioitertools, botocore, aiobotocore, s3fs\n",
      "  Attempting uninstall: fsspec\n",
      "    Found existing installation: fsspec 2024.6.0\n",
      "    Uninstalling fsspec-2024.6.0:\n",
      "      Successfully uninstalled fsspec-2024.6.0\n",
      "  Attempting uninstall: botocore\n",
      "    Found existing installation: botocore 1.34.142\n",
      "    Uninstalling botocore-1.34.142:\n",
      "      Successfully uninstalled botocore-1.34.142\n",
      "  Attempting uninstall: s3fs\n",
      "    Found existing installation: s3fs 0.4.2\n",
      "    Uninstalling s3fs-0.4.2:\n",
      "      Successfully uninstalled s3fs-0.4.2\n",
      "\u001b[31mERROR: pip's dependency resolver does not currently take into account all the packages that are installed. This behaviour is the source of the following dependency conflicts.\n",
      "awscli 1.33.24 requires botocore==1.34.142, but you have botocore 1.34.131 which is incompatible.\n",
      "boto3 1.34.142 requires botocore<1.35.0,>=1.34.142, but you have botocore 1.34.131 which is incompatible.\u001b[0m\u001b[31m\n",
      "\u001b[0mSuccessfully installed aiobotocore-2.13.2 aioitertools-0.11.0 botocore-1.34.131 fsspec-2024.6.1 s3fs-2024.6.1\n"
     ]
    }
   ],
   "source": [
    "!pip install --upgrade s3fs\n"
   ]
  },
  {
   "cell_type": "markdown",
   "id": "08311da8",
   "metadata": {},
   "source": [
    "3. Build XGBoost Model"
   ]
  },
  {
   "cell_type": "markdown",
   "id": "7ee78d39",
   "metadata": {},
   "source": [
    "Find a XGBoost Image URI and builds and XGBoost container"
   ]
  },
  {
   "cell_type": "code",
   "execution_count": 23,
   "id": "5efbfc91",
   "metadata": {},
   "outputs": [
    {
     "name": "stdout",
     "output_type": "stream",
     "text": [
      "sagemaker.config INFO - Not applying SDK defaults from location: /etc/xdg/sagemaker/config.yaml\n",
      "sagemaker.config INFO - Not applying SDK defaults from location: /home/ec2-user/.config/sagemaker/config.yaml\n"
     ]
    }
   ],
   "source": [
    "import sagemaker\n",
    "from sagemaker import image_uris\n",
    "from sagemaker.session import Session\n",
    "from sagemaker.inputs import TrainingInput"
   ]
  },
  {
   "cell_type": "code",
   "execution_count": 24,
   "id": "7765506f",
   "metadata": {},
   "outputs": [
    {
     "data": {
      "text/plain": [
       "'121021644041.dkr.ecr.ap-southeast-1.amazonaws.com/sagemaker-xgboost:1.2-2'"
      ]
     },
     "metadata": {},
     "output_type": "display_data"
    }
   ],
   "source": [
    "xgboost_container = image_uris.retrieve(\"xgboost\", boto3.Session().region_name, \"1.2-2\")\n",
    "display(xgboost_container)"
   ]
  },
  {
   "cell_type": "code",
   "execution_count": 25,
   "id": "ecf9f61b",
   "metadata": {},
   "outputs": [],
   "source": [
    "hyperparameters = {\n",
    "    \"max_depth\":\"5\",\n",
    "    \"eta\":\"0.2\",\n",
    "    \"gamma\":\"4\",\n",
    "    \"min_child_weight\":\"6\",\n",
    "    \"subsample\":\"0.7\",\n",
    "    \"objective\":\"reg:squarederror\",\n",
    "    \"early_stopping_rounds\":10,\n",
    "    \"num_round\":1000\n",
    "}"
   ]
  },
  {
   "cell_type": "code",
   "execution_count": 27,
   "id": "06c32e04",
   "metadata": {},
   "outputs": [
    {
     "name": "stdout",
     "output_type": "stream",
     "text": [
      "s3://globeossstockprices/xgboost-as-a-built-in-algo/output/\n"
     ]
    }
   ],
   "source": [
    "output_path = 's3://{}/{}/{}/'.format(bucket_name, prefix, 'output')\n",
    "print(output_path)"
   ]
  },
  {
   "cell_type": "code",
   "execution_count": 28,
   "id": "5a8ccafe",
   "metadata": {},
   "outputs": [],
   "source": [
    "estimator = sagemaker.estimator.Estimator(image_uri = xgboost_container,\n",
    "                                          hyperparameters = hyperparameters,\n",
    "                                          role = sagemaker.get_execution_role(),\n",
    "                                          instance_count = 1,\n",
    "                                          instance_type = 'ml.m4.xlarge',\n",
    "                                          volume_size = 5, # 5 GB\n",
    "                                          output_path = output_path,\n",
    "                                          use_spot_instances = True,\n",
    "                                          max_run = 300,\n",
    "                                          max_wait = 600\n",
    "                                         )\n"
   ]
  },
  {
   "cell_type": "code",
   "execution_count": 29,
   "id": "ba9c8604",
   "metadata": {},
   "outputs": [],
   "source": [
    "content_type = \"csv\"\n",
    "train_input = TrainingInput(\"s3://{}/{}/{}/\".format(bucket_name, prefix, 'train'), content_type=content_type)\n",
    "test_input = TrainingInput(\"s3://{}/{}/{}/\".format(bucket_name, prefix, 'test'), content_type=content_type)\n"
   ]
  },
  {
   "cell_type": "code",
   "execution_count": 30,
   "id": "d36b298b",
   "metadata": {},
   "outputs": [
    {
     "name": "stderr",
     "output_type": "stream",
     "text": [
      "INFO:sagemaker:Creating training-job with name: sagemaker-xgboost-2024-08-13-08-59-54-482\n"
     ]
    },
    {
     "name": "stdout",
     "output_type": "stream",
     "text": [
      "2024-08-13 08:59:54 Starting - Starting the training job...\n",
      "2024-08-13 09:00:19 Starting - Preparing the instances for training......\n",
      "2024-08-13 09:01:07 Downloading - Downloading input data...\n",
      "2024-08-13 09:01:33 Downloading - Downloading the training image......\n",
      "2024-08-13 09:02:49 Training - Training image download completed. Training in progress..\u001b[34m[2024-08-13 09:02:57.136 ip-10-0-202-96.ap-southeast-1.compute.internal:7 INFO utils.py:27] RULE_JOB_STOP_SIGNAL_FILENAME: None\u001b[0m\n",
      "\u001b[34m[2024-08-13:09:02:57:INFO] Imported framework sagemaker_xgboost_container.training\u001b[0m\n",
      "\u001b[34m[2024-08-13:09:02:57:INFO] Failed to parse hyperparameter objective value reg:squarederror to Json.\u001b[0m\n",
      "\u001b[34mReturning the value itself\u001b[0m\n",
      "\u001b[34m[2024-08-13:09:02:57:INFO] No GPUs detected (normal if no gpus installed)\u001b[0m\n",
      "\u001b[34m[2024-08-13:09:02:57:INFO] Running XGBoost Sagemaker in algorithm mode\u001b[0m\n",
      "\u001b[34m[2024-08-13:09:02:57:INFO] Determined delimiter of CSV input is ','\u001b[0m\n",
      "\u001b[34m[2024-08-13:09:02:57:INFO] Determined delimiter of CSV input is ','\u001b[0m\n",
      "\u001b[34m[2024-08-13:09:02:57:INFO] Determined delimiter of CSV input is ','\u001b[0m\n",
      "\u001b[34m[2024-08-13:09:02:57:INFO] Determined delimiter of CSV input is ','\u001b[0m\n",
      "\u001b[34m[2024-08-13:09:02:57:INFO] Single node training.\u001b[0m\n",
      "\u001b[34m[2024-08-13:09:02:57:INFO] Train matrix has 403 rows and 5 columns\u001b[0m\n",
      "\u001b[34m[2024-08-13:09:02:57:INFO] Validation matrix has 101 rows\u001b[0m\n",
      "\u001b[34m[2024-08-13 09:02:57.232 ip-10-0-202-96.ap-southeast-1.compute.internal:7 INFO json_config.py:91] Creating hook from json_config at /opt/ml/input/config/debughookconfig.json.\u001b[0m\n",
      "\u001b[34m[2024-08-13 09:02:57.233 ip-10-0-202-96.ap-southeast-1.compute.internal:7 INFO hook.py:201] tensorboard_dir has not been set for the hook. SMDebug will not be exporting tensorboard summaries.\u001b[0m\n",
      "\u001b[34m[2024-08-13 09:02:57.234 ip-10-0-202-96.ap-southeast-1.compute.internal:7 INFO profiler_config_parser.py:102] User has disabled profiler.\u001b[0m\n",
      "\u001b[34m[2024-08-13 09:02:57.235 ip-10-0-202-96.ap-southeast-1.compute.internal:7 INFO hook.py:255] Saving to /opt/ml/output/tensors\u001b[0m\n",
      "\u001b[34m[2024-08-13 09:02:57.235 ip-10-0-202-96.ap-southeast-1.compute.internal:7 INFO state_store.py:77] The checkpoint config file /opt/ml/input/config/checkpointconfig.json does not exist.\u001b[0m\n",
      "\u001b[34m[2024-08-13:09:02:57:INFO] Debug hook created from config\u001b[0m\n",
      "\u001b[34m[0]#011train-rmse:0.11347#011validation-rmse:0.11794\u001b[0m\n",
      "\u001b[34m[2024-08-13 09:02:57.323 ip-10-0-202-96.ap-southeast-1.compute.internal:7 INFO hook.py:423] Monitoring the collections: metrics\u001b[0m\n",
      "\u001b[34m[2024-08-13 09:02:57.325 ip-10-0-202-96.ap-southeast-1.compute.internal:7 INFO hook.py:486] Hook is writing from the hook with pid: 7\u001b[0m\n",
      "\u001b[34m[1]#011train-rmse:0.09344#011validation-rmse:0.09804\u001b[0m\n",
      "\u001b[34m[2]#011train-rmse:0.07737#011validation-rmse:0.08210\u001b[0m\n",
      "\u001b[34m[3]#011train-rmse:0.06495#011validation-rmse:0.06979\u001b[0m\n",
      "\u001b[34m[4]#011train-rmse:0.05597#011validation-rmse:0.06087\u001b[0m\n",
      "\u001b[34m[5]#011train-rmse:0.04931#011validation-rmse:0.05422\u001b[0m\n",
      "\u001b[34m[6]#011train-rmse:0.04502#011validation-rmse:0.04990\u001b[0m\n",
      "\u001b[34m[7]#011train-rmse:0.04150#011validation-rmse:0.04630\u001b[0m\n",
      "\u001b[34m[8]#011train-rmse:0.03893#011validation-rmse:0.04360\u001b[0m\n",
      "\u001b[34m[9]#011train-rmse:0.03744#011validation-rmse:0.04198\u001b[0m\n",
      "\u001b[34m[10]#011train-rmse:0.03634#011validation-rmse:0.04072\u001b[0m\n",
      "\u001b[34m[11]#011train-rmse:0.03570#011validation-rmse:0.03996\u001b[0m\n",
      "\u001b[34m[12]#011train-rmse:0.03521#011validation-rmse:0.03933\u001b[0m\n",
      "\u001b[34m[13]#011train-rmse:0.03493#011validation-rmse:0.03894\u001b[0m\n",
      "\u001b[34m[14]#011train-rmse:0.03479#011validation-rmse:0.03873\u001b[0m\n",
      "\u001b[34m[15]#011train-rmse:0.03465#011validation-rmse:0.03850\u001b[0m\n",
      "\u001b[34m[16]#011train-rmse:0.03458#011validation-rmse:0.03837\u001b[0m\n",
      "\u001b[34m[17]#011train-rmse:0.03452#011validation-rmse:0.03826\u001b[0m\n",
      "\u001b[34m[18]#011train-rmse:0.03451#011validation-rmse:0.03823\u001b[0m\n",
      "\u001b[34m[19]#011train-rmse:0.03449#011validation-rmse:0.03817\u001b[0m\n",
      "\u001b[34m[20]#011train-rmse:0.03446#011validation-rmse:0.03811\u001b[0m\n",
      "\u001b[34m[21]#011train-rmse:0.03445#011validation-rmse:0.03804\u001b[0m\n",
      "\u001b[34m[22]#011train-rmse:0.03444#011validation-rmse:0.03798\u001b[0m\n",
      "\u001b[34m[23]#011train-rmse:0.03443#011validation-rmse:0.03796\u001b[0m\n",
      "\u001b[34m[24]#011train-rmse:0.03443#011validation-rmse:0.03797\u001b[0m\n",
      "\u001b[34m[25]#011train-rmse:0.03443#011validation-rmse:0.03797\u001b[0m\n",
      "\u001b[34m[26]#011train-rmse:0.03444#011validation-rmse:0.03799\u001b[0m\n",
      "\u001b[34m[27]#011train-rmse:0.03443#011validation-rmse:0.03798\u001b[0m\n",
      "\u001b[34m[28]#011train-rmse:0.03444#011validation-rmse:0.03800\u001b[0m\n",
      "\u001b[34m[29]#011train-rmse:0.03443#011validation-rmse:0.03797\u001b[0m\n",
      "\u001b[34m[30]#011train-rmse:0.03444#011validation-rmse:0.03799\u001b[0m\n",
      "\u001b[34m[31]#011train-rmse:0.03443#011validation-rmse:0.03797\u001b[0m\n",
      "\u001b[34m[32]#011train-rmse:0.03443#011validation-rmse:0.03794\u001b[0m\n",
      "\u001b[34m[33]#011train-rmse:0.03444#011validation-rmse:0.03799\u001b[0m\n",
      "\u001b[34m[34]#011train-rmse:0.03444#011validation-rmse:0.03799\u001b[0m\n",
      "\u001b[34m[35]#011train-rmse:0.03444#011validation-rmse:0.03798\u001b[0m\n",
      "\u001b[34m[36]#011train-rmse:0.03444#011validation-rmse:0.03801\u001b[0m\n",
      "\u001b[34m[37]#011train-rmse:0.03444#011validation-rmse:0.03798\u001b[0m\n",
      "\u001b[34m[38]#011train-rmse:0.03443#011validation-rmse:0.03794\u001b[0m\n",
      "\u001b[34m[39]#011train-rmse:0.03444#011validation-rmse:0.03789\u001b[0m\n",
      "\u001b[34m[40]#011train-rmse:0.03444#011validation-rmse:0.03789\u001b[0m\n",
      "\u001b[34m[41]#011train-rmse:0.03444#011validation-rmse:0.03788\u001b[0m\n",
      "\u001b[34m[42]#011train-rmse:0.03444#011validation-rmse:0.03788\u001b[0m\n",
      "\u001b[34m[43]#011train-rmse:0.03443#011validation-rmse:0.03792\u001b[0m\n",
      "\u001b[34m[44]#011train-rmse:0.03443#011validation-rmse:0.03793\u001b[0m\n",
      "\u001b[34m[45]#011train-rmse:0.03443#011validation-rmse:0.03795\u001b[0m\n",
      "\u001b[34m[46]#011train-rmse:0.03443#011validation-rmse:0.03796\u001b[0m\n",
      "\u001b[34m[47]#011train-rmse:0.03443#011validation-rmse:0.03797\u001b[0m\n",
      "\u001b[34m[48]#011train-rmse:0.03443#011validation-rmse:0.03795\u001b[0m\n",
      "\u001b[34m[49]#011train-rmse:0.03443#011validation-rmse:0.03793\u001b[0m\n",
      "\u001b[34m[50]#011train-rmse:0.03443#011validation-rmse:0.03793\u001b[0m\n",
      "\u001b[34m[51]#011train-rmse:0.03443#011validation-rmse:0.03792\u001b[0m\n",
      "\u001b[34m[52]#011train-rmse:0.03443#011validation-rmse:0.03794\u001b[0m\n",
      "\n",
      "2024-08-13 09:03:15 Uploading - Uploading generated training model\n",
      "2024-08-13 09:03:15 Completed - Training job completed\n",
      "Training seconds: 128\n",
      "Billable seconds: 44\n",
      "Managed Spot Training savings: 65.6%\n"
     ]
    }
   ],
   "source": [
    "estimator.fit({'train': train_input, 'validation': test_input})"
   ]
  },
  {
   "cell_type": "markdown",
   "id": "df174b6c",
   "metadata": {},
   "source": [
    "Deploying trained XGB model as Endpoint"
   ]
  },
  {
   "cell_type": "code",
   "execution_count": 32,
   "id": "3cee3871",
   "metadata": {},
   "outputs": [
    {
     "name": "stderr",
     "output_type": "stream",
     "text": [
      "INFO:sagemaker:Creating model with name: sagemaker-xgboost-2024-08-13-09-11-17-472\n",
      "INFO:sagemaker:Creating endpoint-config with name sagemaker-xgboost-2024-08-13-09-11-17-472\n",
      "INFO:sagemaker:Creating endpoint with name sagemaker-xgboost-2024-08-13-09-11-17-472\n"
     ]
    },
    {
     "name": "stdout",
     "output_type": "stream",
     "text": [
      "------!"
     ]
    }
   ],
   "source": [
    "from sagemaker.serializers import CSVSerializer\n",
    "\n",
    "xgb_predictor = estimator.deploy(initial_instance_count=1, instance_type='ml.m4.xlarge', serializer=CSVSerializer())"
   ]
  },
  {
   "cell_type": "code",
   "execution_count": 33,
   "id": "4bb09578",
   "metadata": {},
   "outputs": [
    {
     "data": {
      "text/plain": [
       "'sagemaker-xgboost-2024-08-13-09-11-17-472'"
      ]
     },
     "execution_count": 33,
     "metadata": {},
     "output_type": "execute_result"
    }
   ],
   "source": [
    "xgb_predictor.endpoint_name"
   ]
  },
  {
   "cell_type": "code",
   "execution_count": 34,
   "id": "8c13bc9b",
   "metadata": {},
   "outputs": [
    {
     "name": "stderr",
     "output_type": "stream",
     "text": [
      "[*********************100%%**********************]  1 of 1 completed\n"
     ]
    },
    {
     "data": {
      "text/html": [
       "<div>\n",
       "<style scoped>\n",
       "    .dataframe tbody tr th:only-of-type {\n",
       "        vertical-align: middle;\n",
       "    }\n",
       "\n",
       "    .dataframe tbody tr th {\n",
       "        vertical-align: top;\n",
       "    }\n",
       "\n",
       "    .dataframe thead th {\n",
       "        text-align: right;\n",
       "    }\n",
       "</style>\n",
       "<table border=\"1\" class=\"dataframe\">\n",
       "  <thead>\n",
       "    <tr style=\"text-align: right;\">\n",
       "      <th></th>\n",
       "      <th>Date</th>\n",
       "      <th>Open</th>\n",
       "      <th>High</th>\n",
       "      <th>Low</th>\n",
       "      <th>Close</th>\n",
       "      <th>Adj Close</th>\n",
       "      <th>Volume</th>\n",
       "    </tr>\n",
       "  </thead>\n",
       "  <tbody>\n",
       "    <tr>\n",
       "      <th>0</th>\n",
       "      <td>2021-01-04</td>\n",
       "      <td>0.325</td>\n",
       "      <td>0.325</td>\n",
       "      <td>0.325</td>\n",
       "      <td>0.325</td>\n",
       "      <td>0.295766</td>\n",
       "      <td>20000</td>\n",
       "    </tr>\n",
       "  </tbody>\n",
       "</table>\n",
       "</div>"
      ],
      "text/plain": [
       "        Date   Open   High    Low  Close  Adj Close  Volume\n",
       "0 2021-01-04  0.325  0.325  0.325  0.325   0.295766   20000"
      ]
     },
     "execution_count": 34,
     "metadata": {},
     "output_type": "execute_result"
    }
   ],
   "source": [
    "# initialize parameters\n",
    "start_date = datetime(2021, 1, 4)\n",
    "end_date = datetime(2021, 1, 5)\n",
    "\n",
    "# get the data\n",
    "df_data = yf.download('AWV.SI', start = start_date, end = end_date)\n",
    "df_data.reset_index(inplace=True)\n",
    "df_data"
   ]
  },
  {
   "cell_type": "code",
   "execution_count": 35,
   "id": "53fd6ec8",
   "metadata": {},
   "outputs": [
    {
     "data": {
      "text/plain": [
       "array([[3.24999988e-01, 3.24999988e-01, 3.24999988e-01, 3.24999988e-01,\n",
       "        2.00000000e+04]])"
      ]
     },
     "execution_count": 35,
     "metadata": {},
     "output_type": "execute_result"
    }
   ],
   "source": [
    "df_data.drop(axis=1, columns=['Adj Close'], inplace=True)\n",
    "df_data.drop(axis=1, columns=['Date'], inplace=True)\n",
    "\n",
    "data_features_array = df_data.values\n",
    "data_features_array"
   ]
  },
  {
   "cell_type": "code",
   "execution_count": 36,
   "id": "799b0294",
   "metadata": {},
   "outputs": [],
   "source": [
    "Y_pred_Fcn = xgb_predictor.predict(data_features_array).decode('utf-8')\n"
   ]
  },
  {
   "cell_type": "code",
   "execution_count": 39,
   "id": "e685d168",
   "metadata": {},
   "outputs": [
    {
     "name": "stdout",
     "output_type": "stream",
     "text": [
      "0.324999988,0.324999988,0.324999988,0.324999988,20000.0 <class 'str'>\n"
     ]
    },
    {
     "data": {
      "text/plain": [
       "'0.36412209272384644\\n'"
      ]
     },
     "execution_count": 39,
     "metadata": {},
     "output_type": "execute_result"
    }
   ],
   "source": [
    "from sagemaker.serializers import CSVSerializer\n",
    "\n",
    "Serialized_Input_Fcn = CSVSerializer().serialize([[3.24999988e-01, 3.24999988e-01, 3.24999988e-01, 3.24999988e-01, 2.00000000e+04]])\n",
    "\n",
    "print(Serialized_Input_Fcn, type(Serialized_Input_Fcn))\n",
    "Y_pred_Fcn = xgb_predictor.predict(Serialized_Input_Fcn).decode('utf-8')\n",
    "Y_pred_Fcn"
   ]
  },
  {
   "cell_type": "code",
   "execution_count": 40,
   "id": "068e557f",
   "metadata": {},
   "outputs": [
    {
     "name": "stdout",
     "output_type": "stream",
     "text": [
      "0.324999988,0.324999988,0.324999988,0.324999988,20000.0 <class 'str'>\n"
     ]
    }
   ],
   "source": [
    "Input = [[0.324999988,0.324999988,0.324999988,0.324999988,20000.0],\n",
    "        [0.324999988,0.324999988,0.324999988,0.324999988,20000.0],\n",
    "        [0.324999988,0.324999988,0.324999988,0.324999988,20000.0]]\n",
    "\n",
    "Serialized_Input = ','.join(map(str, Input[0]))\n",
    "\n",
    "print(Serialized_Input_Fcn, type(Serialized_Input_Fcn))\n"
   ]
  },
  {
   "cell_type": "markdown",
   "id": "95cffdf0",
   "metadata": {},
   "source": [
    "Lambda Function Handler"
   ]
  },
  {
   "cell_type": "code",
   "execution_count": 54,
   "id": "e6fcc70b",
   "metadata": {},
   "outputs": [
    {
     "data": {
      "text/plain": [
       "['0.36412209272384644', '0.36412209272384644', '0.36412209272384644']"
      ]
     },
     "execution_count": 54,
     "metadata": {},
     "output_type": "execute_result"
    }
   ],
   "source": [
    "import boto3\n",
    "\n",
    "ENDPOINT_NAME = 'sagemaker-xgboost-2024-08-13-09-11-17-472'\n",
    "runtime = boto3.client('runtime.sagemaker')\n",
    "\n",
    "def lambda_handler(event, context):\n",
    "    inputs = event['data']\n",
    "    result = []\n",
    "    for input in inputs:\n",
    "        serialized_input = ','.join(map(str, inputs[0]))\n",
    "        response = runtime.invoke_endpoint(EndpointName= ENDPOINT_NAME,\n",
    "                                          ContentType='text/csv',\n",
    "                                          Body=serialized_input)\n",
    "        result.append(response['Body'].read().decode().strip())\n",
    "    \n",
    "    return result\n",
    "\n",
    "Input_json = {'data':[[0.324999988,0.324999988,0.324999988,0.324999988,20000.0],[0.324999988,0.324999988,0.324999988,0.324999988,20000.0],[0.324999988,0.324999988,0.324999988,0.324999988,20000.0]]\n",
    "}\n",
    "\n",
    "result = lambda_handler(Input_json, _)\n",
    "result\n"
   ]
  },
  {
   "cell_type": "markdown",
   "id": "48d4805f",
   "metadata": {},
   "source": [
    "Calling API through API Gateway"
   ]
  },
  {
   "cell_type": "code",
   "execution_count": 55,
   "id": "c81b3eb3",
   "metadata": {},
   "outputs": [],
   "source": [
    "import requests\n",
    "\n",
    "API_ENDPOINT = \"https://m1vfb49byk.execute-api.ap-southeast-1.amazonaws.com/xgbmodel\"\n",
    "\n",
    "json = {'data':[[0.324999988,0.324999988,0.324999988,0.324999988,20000.0],[0.324999988,0.324999988,0.324999988,0.324999988,20000.0],[0.324999988,0.324999988,0.324999988,0.324999988,20000.0]]\n",
    "}\n",
    "\n",
    "r = requests.post(url = API_ENDPOINT, json = json)"
   ]
  },
  {
   "cell_type": "code",
   "execution_count": 57,
   "id": "b2c2d243",
   "metadata": {},
   "outputs": [
    {
     "name": "stdout",
     "output_type": "stream",
     "text": [
      "Status Code: 200, Response: ['0.36412209272384644', '0.36412209272384644', '0.36412209272384644']\n"
     ]
    }
   ],
   "source": [
    "print(f\"Status Code: {r.status_code}, Response: {r.json()}\")"
   ]
  },
  {
   "cell_type": "code",
   "execution_count": null,
   "id": "de4c5f8b",
   "metadata": {},
   "outputs": [],
   "source": []
  }
 ],
 "metadata": {
  "kernelspec": {
   "display_name": "conda_python3",
   "language": "python",
   "name": "conda_python3"
  },
  "language_info": {
   "codemirror_mode": {
    "name": "ipython",
    "version": 3
   },
   "file_extension": ".py",
   "mimetype": "text/x-python",
   "name": "python",
   "nbconvert_exporter": "python",
   "pygments_lexer": "ipython3",
   "version": "3.10.14"
  }
 },
 "nbformat": 4,
 "nbformat_minor": 5
}
